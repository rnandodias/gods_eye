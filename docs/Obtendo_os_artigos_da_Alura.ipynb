{
  "nbformat": 4,
  "nbformat_minor": 0,
  "metadata": {
    "colab": {
      "provenance": []
    },
    "kernelspec": {
      "name": "python3",
      "display_name": "Python 3"
    },
    "language_info": {
      "name": "python"
    }
  },
  "cells": [
    {
      "cell_type": "code",
      "source": [
        "from google.colab import drive\n",
        "drive.mount('/content/drive')"
      ],
      "metadata": {
        "colab": {
          "base_uri": "https://localhost:8080/"
        },
        "id": "fIz1-kAKpm_Y",
        "outputId": "52f092cf-8ba2-45fc-8644-4f068bbc014e"
      },
      "execution_count": 2,
      "outputs": [
        {
          "output_type": "stream",
          "name": "stdout",
          "text": [
            "Mounted at /content/drive\n"
          ]
        }
      ]
    },
    {
      "cell_type": "code",
      "source": [
        "import requests\n",
        "from bs4 import BeautifulSoup\n",
        "from urllib.parse import urljoin\n",
        "from collections import deque, defaultdict\n",
        "from tqdm import tqdm\n",
        "import json"
      ],
      "metadata": {
        "id": "Av2ZWqmXrjxc"
      },
      "execution_count": 3,
      "outputs": []
    },
    {
      "cell_type": "code",
      "source": [
        "# def get_all_links(base_url):\n",
        "#     visited = set()  # Conjunto para armazenar URLs visitados\n",
        "#     queue = deque([base_url])  # Fila de URLs a serem visitadas\n",
        "#     all_links = []  # Lista de todos os links encontrados\n",
        "\n",
        "#     # Iniciando a barra de progresso com o tamanho da fila\n",
        "#     pbar = tqdm(total=len(queue), desc=\"Processando URLs\")\n",
        "\n",
        "#     while queue:\n",
        "#         current_url = queue.popleft()\n",
        "#         if current_url in visited:\n",
        "#             continue\n",
        "\n",
        "#         try:\n",
        "#             response = requests.get(current_url)\n",
        "#             response.raise_for_status()\n",
        "#         except requests.RequestException as e:\n",
        "#             print(f\"Erro ao acessar {current_url}: {e}\")\n",
        "#             continue\n",
        "\n",
        "#         visited.add(current_url)\n",
        "#         soup = BeautifulSoup(response.text, 'html.parser')\n",
        "#         links = soup.find_all('a')\n",
        "\n",
        "#         for link in links:\n",
        "#             href = link.get('href')\n",
        "#             if href:\n",
        "#                 full_url = urljoin(base_url, href)\n",
        "#                 # Filtra URLs que contêm '#'\n",
        "#                 if full_url.startswith(base_url) and full_url not in visited and '#' not in full_url:\n",
        "#                     queue.append(full_url)\n",
        "#                     all_links.append(full_url)\n",
        "#                     # Atualiza a barra de progresso com o tamanho da fila\n",
        "#                     pbar.total = len(queue)\n",
        "#                     pbar.update(1)\n",
        "\n",
        "#     # Fecha a barra de progresso após o término do loop\n",
        "#     pbar.close()\n",
        "\n",
        "#     return all_links\n",
        "\n",
        "# # URL base de exemplo\n",
        "# base_url = \"https://www.alura.com.br/artigos/\"\n",
        "\n",
        "# # Obtém todos os links dentro do domínio fornecido\n",
        "# links = get_all_links(base_url)"
      ],
      "metadata": {
        "id": "SwkSLHc_rge4"
      },
      "execution_count": 4,
      "outputs": []
    },
    {
      "cell_type": "code",
      "source": [
        "# # Imprime os links encontrados\n",
        "# for link in links:\n",
        "#     print(link)"
      ],
      "metadata": {
        "id": "tbx9VRWMsDSx"
      },
      "execution_count": 5,
      "outputs": []
    },
    {
      "cell_type": "code",
      "source": [
        "# output_file = \"/content/drive/MyDrive/Alura/Coordenação/Planejamento/tools/olho_de_deus/docs/artigos-alura.json\"\n",
        "\n",
        "# with open(output_file, 'w') as file:\n",
        "#     json.dump(links, file, indent=4)\n",
        "\n",
        "# print(f\"URLs salvas em {output_file}\")"
      ],
      "metadata": {
        "id": "B5N-mnnEDv3y"
      },
      "execution_count": 6,
      "outputs": []
    },
    {
      "cell_type": "code",
      "source": [
        "# input_file = \"/content/drive/MyDrive/Alura/Coordenação/Planejamento/tools/olho_de_deus/docs/artigos-alura.json\"\n",
        "\n",
        "# with open(input_file, 'r') as file:\n",
        "#     urls = json.load(file)\n",
        "\n",
        "# # urls"
      ],
      "metadata": {
        "id": "SGaRk5RNg416"
      },
      "execution_count": 7,
      "outputs": []
    },
    {
      "cell_type": "code",
      "source": [
        "# urls = list(set(urls))"
      ],
      "metadata": {
        "id": "IKyu8qWocmWT"
      },
      "execution_count": 8,
      "outputs": []
    },
    {
      "cell_type": "code",
      "source": [
        "# len(urls)"
      ],
      "metadata": {
        "id": "OInCU173k5S7"
      },
      "execution_count": 9,
      "outputs": []
    },
    {
      "cell_type": "code",
      "source": [
        "# urls_data_science = defaultdict(list)\n",
        "# urls_error = []\n",
        "\n",
        "# for url in tqdm(urls):\n",
        "#     try:\n",
        "#         response = requests.get(url)\n",
        "#         response.raise_for_status()\n",
        "\n",
        "#         soup = BeautifulSoup(response.text, 'html.parser')\n",
        "\n",
        "#         name_school = soup.find('a', class_='artigos-topo__label --artigos-strong')\n",
        "\n",
        "#         if name_school:\n",
        "#             school = name_school.get_text(strip=True)\n",
        "#             urls_data_science[school].append(url)\n",
        "#     except:\n",
        "#         urls_error.append(url)\n",
        "#         continue"
      ],
      "metadata": {
        "id": "b4HKgK-kk6gF"
      },
      "execution_count": 10,
      "outputs": []
    },
    {
      "cell_type": "code",
      "source": [
        "# urls_data_science = dict(urls_data_science)\n",
        "\n",
        "# output_file = \"/content/drive/MyDrive/Alura/Coordenação/Planejamento/tools/olho_de_deus/docs/artigos-por-tipo-alura.json\"\n",
        "\n",
        "# with open(output_file, 'w') as file:\n",
        "#     json.dump(urls_data_science, file, indent=4)\n",
        "\n",
        "# print(f\"URLs salvas em {output_file}\")"
      ],
      "metadata": {
        "id": "gNiKs5tKrjgy"
      },
      "execution_count": 11,
      "outputs": []
    },
    {
      "cell_type": "code",
      "source": [
        "# input_file = \"/content/drive/MyDrive/Alura/Coordenação/Planejamento/tools/olho_de_deus/docs/artigos-por-tipo-alura.json\"\n",
        "\n",
        "# with open(input_file, 'r') as file:\n",
        "#     urls_data_science = json.load(file)\n",
        "\n",
        "# # urls_data_science"
      ],
      "metadata": {
        "id": "366XcyuBP8Fr"
      },
      "execution_count": 12,
      "outputs": []
    },
    {
      "cell_type": "code",
      "source": [
        "# names = {\n",
        "#     'Afonso': ['Afonso Augusto Rios'],\n",
        "#     'Allan': ['Allan Segovia Spadini','spadini','Beatriz Magalhães, Allan Segovia Spadini, franciscotadeu-foz'],\n",
        "#     'Bia': ['Beatriz Magalhães','Beatriz Magalhães, Daniel Portugal','Beatriz Magalhães, Allan Segovia Spadini, franciscotadeu-foz'],\n",
        "#     'Daniel': ['Daniel Siqueira','“danpsiqueira”, “victorino-vila”','Pedro Henrique Campagna Moura da Silva, Daniel Siqueira','Ana Hashimoto, Daniel Siqueira'],\n",
        "#     'Danielle': ['Danielle Oliveira','Danielle Oliveira, Giovanna Dias','Danielle Oliveira, tathiana-rodnarchuki'],\n",
        "#     'Igor': ['Igor Nascimento Alves','Igor Nascimento Alves, David Neves'],\n",
        "#     'João': ['João Vitor de Miranda'],\n",
        "#     'Larissa': ['Andrieli Gonçalves, Larissa Dubiella','Larissa Dubiella'],\n",
        "#     'Marcelo': ['Marcelo Cruz','Marcelo Cruz, Sthefanie Monica Premebida','Paulo Calanca, Marcus Almeida, Marcelo Cruz'],\n",
        "#     'Mirla': ['Mirla Costa','Mirla Costa, leticiapyres'],\n",
        "#     'Val': ['Valquíria Alencar']\n",
        "# }"
      ],
      "metadata": {
        "id": "xIBBoocKXI25"
      },
      "execution_count": 13,
      "outputs": []
    },
    {
      "cell_type": "code",
      "source": [
        "# urls_data_science_author = defaultdict(list)\n",
        "# urls_error_author = []\n",
        "\n",
        "# for url in tqdm(urls_data_science['Data Science']):\n",
        "#     try:\n",
        "#         response = requests.get(url)\n",
        "#         response.raise_for_status()\n",
        "\n",
        "#         soup = BeautifulSoup(response.text, 'html.parser')\n",
        "\n",
        "#         name_author = soup.find('div', class_='cosmos-author-name')\n",
        "\n",
        "#         if name_author:\n",
        "#             author = name_author.get_text(strip=True)\n",
        "#             for key, value in names.items():\n",
        "#                 if author in value:\n",
        "#                     urls_data_science_author[key].append(url)\n",
        "#     except:\n",
        "#         urls_error_author.append(url)\n",
        "#         continue"
      ],
      "metadata": {
        "id": "43maIjbosRDh"
      },
      "execution_count": 14,
      "outputs": []
    },
    {
      "cell_type": "code",
      "source": [
        "# urls_data_science_author = dict(urls_data_science_author)\n",
        "\n",
        "# output_file = \"/content/drive/MyDrive/Alura/Coordenação/Planejamento/tools/olho_de_deus/docs/artigos-ds-por-autor-alura.json\"\n",
        "\n",
        "# with open(output_file, 'w') as file:\n",
        "#     json.dump(urls_data_science_author, file, indent=4)\n",
        "\n",
        "# print(f\"URLs salvas em {output_file}\")"
      ],
      "metadata": {
        "id": "LXaHCXYuS4OK"
      },
      "execution_count": 15,
      "outputs": []
    },
    {
      "cell_type": "code",
      "source": [
        "input_file = \"/content/drive/MyDrive/Alura/Coordenação/Planejamento/tools/olho_de_deus/docs/artigos-ds-por-autor-alura.json\"\n",
        "\n",
        "with open(input_file, 'r') as file:\n",
        "    urls_data_science_author = json.load(file)\n",
        "\n",
        "# urls_data_science"
      ],
      "metadata": {
        "id": "2D1I3_GQj8p0"
      },
      "execution_count": 16,
      "outputs": []
    },
    {
      "cell_type": "code",
      "source": [
        "for key in urls_data_science_author.keys():\n",
        "    print(key)"
      ],
      "metadata": {
        "colab": {
          "base_uri": "https://localhost:8080/"
        },
        "id": "JzkH83laTRIB",
        "outputId": "d280b85a-1a56-4a4e-b481-31068895723e"
      },
      "execution_count": 17,
      "outputs": [
        {
          "output_type": "stream",
          "name": "stdout",
          "text": [
            "Allan\n",
            "Igor\n",
            "João\n",
            "Daniel\n",
            "Danielle\n",
            "Afonso\n",
            "Marcelo\n",
            "Bia\n",
            "Larissa\n",
            "Mirla\n",
            "Val\n"
          ]
        }
      ]
    },
    {
      "cell_type": "code",
      "source": [
        "urls_data_science_author['Allan']"
      ],
      "metadata": {
        "colab": {
          "base_uri": "https://localhost:8080/"
        },
        "id": "tDP4eImzWilx",
        "outputId": "df66e4cd-ef99-44f8-a46a-e98c31756c5f"
      },
      "execution_count": 18,
      "outputs": [
        {
          "output_type": "execute_result",
          "data": {
            "text/plain": [
              "['https://www.alura.com.br/artigos/data-lake-vs-data-warehouse',\n",
              " 'https://www.alura.com.br/artigos/data-driven',\n",
              " 'https://www.alura.com.br/artigos/georreferenciamento-uso-ferramentas',\n",
              " 'https://www.alura.com.br/artigos/o-que-e-data-science',\n",
              " 'https://www.alura.com.br/artigos/nova-formacao-data-science',\n",
              " 'https://www.alura.com.br/artigos/primeiros-passos-com-pytorch',\n",
              " 'https://www.alura.com.br/artigos/series-temporais-e-suas-aplicacoes',\n",
              " 'https://www.alura.com.br/artigos/data-driven-o-que-e-o-que-significa-para-profissionais',\n",
              " 'https://www.alura.com.br/artigos/principais-frameworks-de-deep-learning-em-2021',\n",
              " 'https://www.alura.com.br/artigos/funcao-de-autocorrelacao',\n",
              " 'https://www.alura.com.br/artigos/ferramentas-online-trabalhar-sql',\n",
              " 'https://www.alura.com.br/artigos/modelos-matematicos-utilizados-em-series-temporais',\n",
              " 'https://www.alura.com.br/artigos/formacoes-machine-learning',\n",
              " 'https://www.alura.com.br/artigos/por-onde-comecar-estudos-area-dados',\n",
              " 'https://www.alura.com.br/artigos/metricas-de-avaliacao-para-clusterizacao']"
            ]
          },
          "metadata": {},
          "execution_count": 18
        }
      ]
    },
    {
      "cell_type": "code",
      "source": [
        "urls_data_science_author"
      ],
      "metadata": {
        "colab": {
          "base_uri": "https://localhost:8080/"
        },
        "id": "FUaTwBVfFGyv",
        "outputId": "9507cf29-78c8-4fe7-805a-3f7267862e3b"
      },
      "execution_count": 19,
      "outputs": [
        {
          "output_type": "execute_result",
          "data": {
            "text/plain": [
              "{'Allan': ['https://www.alura.com.br/artigos/data-lake-vs-data-warehouse',\n",
              "  'https://www.alura.com.br/artigos/data-driven',\n",
              "  'https://www.alura.com.br/artigos/georreferenciamento-uso-ferramentas',\n",
              "  'https://www.alura.com.br/artigos/o-que-e-data-science',\n",
              "  'https://www.alura.com.br/artigos/nova-formacao-data-science',\n",
              "  'https://www.alura.com.br/artigos/primeiros-passos-com-pytorch',\n",
              "  'https://www.alura.com.br/artigos/series-temporais-e-suas-aplicacoes',\n",
              "  'https://www.alura.com.br/artigos/data-driven-o-que-e-o-que-significa-para-profissionais',\n",
              "  'https://www.alura.com.br/artigos/principais-frameworks-de-deep-learning-em-2021',\n",
              "  'https://www.alura.com.br/artigos/funcao-de-autocorrelacao',\n",
              "  'https://www.alura.com.br/artigos/ferramentas-online-trabalhar-sql',\n",
              "  'https://www.alura.com.br/artigos/modelos-matematicos-utilizados-em-series-temporais',\n",
              "  'https://www.alura.com.br/artigos/formacoes-machine-learning',\n",
              "  'https://www.alura.com.br/artigos/por-onde-comecar-estudos-area-dados',\n",
              "  'https://www.alura.com.br/artigos/metricas-de-avaliacao-para-clusterizacao'],\n",
              " 'Igor': ['https://www.alura.com.br/artigos/modelagem-de-dados',\n",
              "  'https://www.alura.com.br/artigos/power-bi-contexto-de-linha-e-filtro',\n",
              "  'https://www.alura.com.br/artigos/power-bi-contexto-de-linha-e-filtro?utm_source=gnarus&utm_medium=timeline',\n",
              "  'https://www.alura.com.br/artigos/otimizacao-de-parametros',\n",
              "  'https://www.alura.com.br/artigos/lemmatization-vs-stemming-quando-usar-cada-uma',\n",
              "  'https://www.alura.com.br/artigos/data-science-em-t',\n",
              "  'https://www.alura.com.br/artigos/iniciando-projeto-spark-no-colab',\n",
              "  'https://www.alura.com.br/artigos/power-bi-contexto-linha-filtro',\n",
              "  'https://www.alura.com.br/artigos/nltk-vs-spacy',\n",
              "  'https://www.alura.com.br/artigos/google-bigquery-integracao-ferramentas',\n",
              "  'https://www.alura.com.br/artigos/diferencas-modelo-logico-modelo-fisico'],\n",
              " 'João': ['https://www.alura.com.br/artigos/lidando-com-desbalanceamento-dados',\n",
              "  'https://www.alura.com.br/artigos/conhecendo-o-jupyter-notebook',\n",
              "  'https://www.alura.com.br/artigos/clusterizacao?utm_source=gnarus&utm_medium=timeline',\n",
              "  'https://www.alura.com.br/artigos/clusterizacao',\n",
              "  'https://www.alura.com.br/artigos/get-dummies-vs-onehotencoder-qual-metodo-escolher',\n",
              "  'https://www.alura.com.br/artigos/conhecendo-jupyterlab',\n",
              "  'https://www.alura.com.br/artigos/aprenda-tecnicas-otimizacao-problemas-dia-a-dia',\n",
              "  'https://www.alura.com.br/artigos/big-data'],\n",
              " 'Daniel': ['https://www.alura.com.br/artigos/melhorando-a-analise-com-o-boxplot',\n",
              "  'https://www.alura.com.br/artigos/o-que-e-um-histograma',\n",
              "  'https://www.alura.com.br/artigos/latitude-longitude-power-bi',\n",
              "  'https://www.alura.com.br/artigos/power-bi-analise-de-cenario-com-parametros',\n",
              "  'https://www.alura.com.br/artigos/series-temporais-tipos-de-sazonalidade',\n",
              "  'https://www.alura.com.br/artigos/data-warehouse',\n",
              "  'https://www.alura.com.br/artigos/linguagem-r',\n",
              "  'https://www.alura.com.br/artigos/governanca-de-dados',\n",
              "  'https://www.alura.com.br/artigos/o-que-e-governanca-de-dados',\n",
              "  'https://www.alura.com.br/artigos/tableau-ensinando-dados-para-criancas',\n",
              "  'https://www.alura.com.br/artigos/storytelling-com-dados'],\n",
              " 'Danielle': ['https://www.alura.com.br/artigos/mer-e-der-funcoes',\n",
              "  'https://www.alura.com.br/artigos/mongodb',\n",
              "  'https://www.alura.com.br/artigos/o-que-e-sql?c=',\n",
              "  'https://www.alura.com.br/artigos/como-instalar-mongodb-compass-shell-sistema-linux',\n",
              "  'https://www.alura.com.br/artigos/banco-de-dados',\n",
              "  'https://www.alura.com.br/artigos/sgbds-suas-linguagens-internas',\n",
              "  'https://www.alura.com.br/artigos/power-bi-excel-business-intelligence',\n",
              "  'https://www.alura.com.br/artigos/engenharia-reversa-power-architect',\n",
              "  'https://www.alura.com.br/artigos/trabalhando-funcoes-agregacao',\n",
              "  'https://www.alura.com.br/artigos/o-que-e-sql',\n",
              "  'https://www.alura.com.br/artigos/sql-clausulas-update-e-delete',\n",
              "  'https://www.alura.com.br/artigos/join-e-seus-tipos',\n",
              "  'https://www.alura.com.br/artigos/arquivos-parquet',\n",
              "  'https://www.alura.com.br/artigos/cassandra-ou-mongodb-qual-a-melhor-escolha-para-o-meu-projeto',\n",
              "  'https://www.alura.com.br/artigos/sgbds-relacionais'],\n",
              " 'Afonso': ['https://www.alura.com.br/artigos/tipo-de-visualizacao-de-dados',\n",
              "  'https://www.alura.com.br/artigos/analise-de-dados',\n",
              "  'https://www.alura.com.br/artigos/bigquery-empresas',\n",
              "  'https://www.alura.com.br/artigos/qlik-o-que-e',\n",
              "  'https://www.alura.com.br/artigos/soft-skills-mais-importantes-area-dados?utm_source=gnarus&utm_medium=timeline',\n",
              "  'https://www.alura.com.br/artigos/aplicacoes-sql-diversas-areas',\n",
              "  'https://www.alura.com.br/artigos/excel',\n",
              "  'https://www.alura.com.br/artigos/soft-skills-mais-importantes-area-dados'],\n",
              " 'Marcelo': ['https://www.alura.com.br/artigos/ambientes-em-r',\n",
              "  'https://www.alura.com.br/artigos/dax-cheat-sheet',\n",
              "  'https://www.alura.com.br/artigos/arquitetura-serverless',\n",
              "  'https://www.alura.com.br/artigos/codigos-em-r',\n",
              "  'https://www.alura.com.br/artigos/como-criar-conta-do-power-bi',\n",
              "  'https://www.alura.com.br/artigos/executores-airflow-tipos-funcoes',\n",
              "  'https://www.alura.com.br/artigos/linguagem-dax',\n",
              "  'https://www.alura.com.br/artigos/portfolio-em-dados',\n",
              "  'https://www.alura.com.br/artigos/problemas-resolvidos-algoritmos-classificacao',\n",
              "  'https://www.alura.com.br/artigos/power-bi-medidas-implicitas-e-explicitas',\n",
              "  'https://www.alura.com.br/artigos/power-bi-tipos-de-licencas',\n",
              "  'https://www.alura.com.br/artigos/engenharia-dados',\n",
              "  'https://www.alura.com.br/artigos/machine-learning-tecnicas-bagging-boosting',\n",
              "  'https://www.alura.com.br/artigos/business-intelligence-bi',\n",
              "  'https://www.alura.com.br/artigos/pacote-r',\n",
              "  'https://www.alura.com.br/artigos/tipos-de-dados-power-bi'],\n",
              " 'Bia': ['https://www.alura.com.br/artigos/trigger-em-sql',\n",
              "  'https://www.alura.com.br/artigos/mysql-no-mercado',\n",
              "  'https://www.alura.com.br/artigos/microstrategy-o-que-e',\n",
              "  'https://www.alura.com.br/artigos/relacionamento-reflexivo-modelagem-banco-de-dados',\n",
              "  'https://www.alura.com.br/artigos/tidyverse',\n",
              "  'https://www.alura.com.br/artigos/normalizacao',\n",
              "  'https://www.alura.com.br/artigos/por-onde-comecar-estudos-area-dados'],\n",
              " 'Larissa': ['https://www.alura.com.br/artigos/bigquery-para-que-serve-como-utilizar',\n",
              "  'https://www.alura.com.br/artigos/big-query',\n",
              "  'https://www.alura.com.br/artigos/banco-de-dados-mysql-bigquery'],\n",
              " 'Mirla': ['https://www.alura.com.br/artigos/assuntos-que-assombram-em-data-science',\n",
              "  'https://www.alura.com.br/artigos/machine-learning',\n",
              "  'https://www.alura.com.br/artigos/machine-learning-com-apache-spark'],\n",
              " 'Val': ['https://www.alura.com.br/artigos/metodo-boosting']}"
            ]
          },
          "metadata": {},
          "execution_count": 19
        }
      ]
    },
    {
      "cell_type": "code",
      "source": [
        "data = defaultdict(list)\n",
        "data_error = []\n",
        "database_ids = {\n",
        "    'Allan': '0e8205b022ad43dbb2b32e88f9f7c520',\n",
        "    'Igor': '0fd8041054a444e58f051eebb26f982c',\n",
        "    'João': 'f0b9816544c44052b6e43255d1799a81',\n",
        "    'Daniel': '6360a5c1f2c14682a155c705c028b732',\n",
        "    'Danielle': 'd9bec04f2880401bb61ad94ee5fb22b7',\n",
        "    'Afonso': '083d28cf49d24cc1bccf0b6529290e8e',\n",
        "    'Marcelo': '6ba2da23eea04807bd17f41c966a17e2',\n",
        "    'Bia': '663f4ccf40564e4083b54a3aa6fb4df8',\n",
        "    'Larissa': '948990daa5524216a914ca51f40d4742',\n",
        "    'Mirla': 'd3240808d029400d9680693bf41e216e',\n",
        "    'Val': '243b9f8c33c3482b8bcbd10f65c74dab'\n",
        "}\n",
        "\n",
        "for author, urls in tqdm(urls_data_science_author.items()):\n",
        "    for url in urls:\n",
        "        try:\n",
        "            response = requests.get(url)\n",
        "            response.raise_for_status()\n",
        "\n",
        "            soup = BeautifulSoup(response.text, 'html.parser')\n",
        "\n",
        "            tag_title = soup.find('h1')\n",
        "\n",
        "            if tag_title:\n",
        "                title = tag_title.get_text(strip=True)\n",
        "                data[\"Produto\"].append(\"Artigo\")\n",
        "                data[\"Título do Produto\"].append(title)\n",
        "                data[\"Nome na Plataforma\"].append(title)\n",
        "                data[\"Instrutor(a)\"].append(author)\n",
        "                data[\"Link\"].append(url)\n",
        "                data[\"ID\"].append(database_ids[author])\n",
        "        except:\n",
        "            data_error.append(url)\n",
        "            continue\n",
        "\n",
        "# data"
      ],
      "metadata": {
        "id": "PAFhirjTt29Z"
      },
      "execution_count": null,
      "outputs": []
    },
    {
      "cell_type": "code",
      "source": [
        "df = pd.DataFrame(data)\n",
        "# df"
      ],
      "metadata": {
        "id": "g5KgWxslwnbD"
      },
      "execution_count": null,
      "outputs": []
    },
    {
      "cell_type": "code",
      "source": [
        "!pip install notion-client"
      ],
      "metadata": {
        "id": "v_NS3m4aH5ge"
      },
      "execution_count": null,
      "outputs": []
    },
    {
      "cell_type": "code",
      "source": [
        "import pandas as pd\n",
        "from notion_client import Client\n",
        "\n",
        "# Configuração do cliente Notion\n",
        "notion = Client(auth=\"secret_1RCbNJ5TqX2cWrLHTwVrKQr9NvdbyZfHGIMu8IPxuTm\")\n",
        "\n",
        "# Função para adicionar uma linha ao banco de dados do Notion\n",
        "def add_row_to_notion(row):\n",
        "    properties = {\n",
        "        \"Produto\": {\"rich_text\": [{\"text\": {\"content\": row[\"Produto\"]}}]},\n",
        "        \"Título do Produto\": {\"title\": [{\"text\": {\"content\": row[\"Título do Produto\"]}}]},\n",
        "        \"Nome na Plataforma\": {\"rich_text\": [{\"text\": {\"content\": row[\"Nome na Plataforma\"]}}]},\n",
        "        \"Instrutor(a)\": {\"rich_text\": [{\"text\": {\"content\": row[\"Instrutor(a)\"]}}]},\n",
        "        \"Link\": {\"url\": row[\"Link\"]}\n",
        "    }\n",
        "\n",
        "    notion.pages.create(\n",
        "        parent={\"database_id\": row[\"ID\"]},\n",
        "        icon={\"type\": \"external\", \"external\": {\"url\": \"https://storage.googleapis.com/alura-images/atividades/icons/icon-articles.svg\"}},\n",
        "        properties=properties\n",
        "    )\n",
        "\n",
        "# Iterar sobre o DataFrame e adicionar cada linha ao Notion\n",
        "for _, row in df.iterrows():\n",
        "    add_row_to_notion(row)\n",
        "\n",
        "print(\"DataFrame carregado com sucesso no Notion!\")"
      ],
      "metadata": {
        "colab": {
          "base_uri": "https://localhost:8080/"
        },
        "id": "FoeOVrXSoXe6",
        "outputId": "a8e7a9b3-6dcd-4dbc-cc74-6426bb4f8462"
      },
      "execution_count": 36,
      "outputs": [
        {
          "output_type": "stream",
          "name": "stdout",
          "text": [
            "DataFrame carregado com sucesso no Notion!\n"
          ]
        }
      ]
    },
    {
      "cell_type": "code",
      "source": [],
      "metadata": {
        "id": "lwCRzenaqVIY"
      },
      "execution_count": null,
      "outputs": []
    }
  ]
}